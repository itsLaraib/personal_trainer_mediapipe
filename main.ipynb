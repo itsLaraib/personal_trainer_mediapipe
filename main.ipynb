{
 "cells": [
  {
   "cell_type": "code",
   "execution_count": 74,
   "metadata": {},
   "outputs": [],
   "source": [
    "import cv2 as cv\n",
    "from pose_detection_module import poseDetector\n",
    "import math\n",
    "import numpy as np\n"
   ]
  },
  {
   "cell_type": "code",
   "execution_count": 91,
   "metadata": {},
   "outputs": [],
   "source": [
    "def getAngle(img, list, p1, p2, p3):\n",
    "    cv.circle(img, list[p1], 5, (0,255,0), 2)\n",
    "    cv.circle(img, list[p2], 5, (0,255,0), 2)\n",
    "    cv.circle(img, list[p3], 5, (0,255,0), 2)\n",
    "    cv.line(img,(list[p1]),(list[p2]),(0,0,255),2)\n",
    "    cv.line(img,(list[p1]),(list[p3]),(0,0,255),2)\n",
    "    \n",
    "\n",
    "    degree = math.degrees(math.atan2(list[p1][1] - list[p3][1], list[p1][0] - list[p3][0]) -\n",
    "                          math.atan2(list[p1][1] - list[p2][1], list[p1][0] - list[p2][0]))\n",
    "    \n",
    "    # Ensure the angle is between 0 and 360 degrees\n",
    "    degree = (degree + 360) % 360\n",
    "    \n",
    "    return degree\n"
   ]
  },
  {
   "cell_type": "code",
   "execution_count": 93,
   "metadata": {},
   "outputs": [],
   "source": [
    "cap=cv.VideoCapture('pose-1.mp4')\n",
    "detector = poseDetector()\n",
    "while True:\n",
    "    success,img=cap.read()\n",
    "    if success==False:\n",
    "       break\n",
    "    \n",
    "    img=detector.poseDraw(img)\n",
    "    list=detector.getPositions(img,draw=False)\n",
    "    # print(list)\n",
    "    degree1=getAngle(img,list,12,14,11)  \n",
    "    thresh=np.interp(degree1,[180,270],[70,300])\n",
    "    per=np.interp(degree1,[180,270],[100,0])\n",
    "    cv.putText(img,str(f'{int(per)}%'),(10,50),cv.FONT_HERSHEY_DUPLEX,1,(0,255,0),2)\n",
    "    cv.rectangle(img,(10,70),(30,300),(0,255,0),2)\n",
    "    cv.rectangle(img,(10,int(thresh)),(30,300),(0,255,0),-1)\n",
    "    cv.imshow('Video',img)\n",
    "    if cv.waitKey(35) & 0xFF==ord('d'):\n",
    "        break\n",
    "\n",
    "cv.destroyAllWindows()"
   ]
  }
 ],
 "metadata": {
  "kernelspec": {
   "display_name": "myenv",
   "language": "python",
   "name": "python3"
  },
  "language_info": {
   "codemirror_mode": {
    "name": "ipython",
    "version": 3
   },
   "file_extension": ".py",
   "mimetype": "text/x-python",
   "name": "python",
   "nbconvert_exporter": "python",
   "pygments_lexer": "ipython3",
   "version": "3.8.18"
  }
 },
 "nbformat": 4,
 "nbformat_minor": 2
}
